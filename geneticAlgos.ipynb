{
 "cells": [
  {
   "attachments": {},
   "cell_type": "markdown",
   "id": "d7eda5be",
   "metadata": {},
   "source": [
    "## Genetic Algorithm for Differential Equation Optimization\n",
    "\n",
    "The following code implements a genetic algorithm (GA) for optimizing a differential equation of the form $y = ax^2 + bx + c$. The GA aims to find the optimal values for the coefficients `a`, `b`, and `c` by evolving a population of individuals over multiple generations.\n",
    "\n",
    "### Implementation Details\n",
    "\n",
    "The `AG_diff_equation` class represents the genetic algorithm. Here are the key methods and their functionalities:\n",
    "\n",
    "- **`__init__(self, a, b, c, taille_population, generations)`**: Initializes the genetic algorithm with the equation coefficients `a`, `b`, and `c`, population size `taille_population`, and the number of generations to run.\n",
    "\n",
    "- **`decode_to_binary(self, num)`**: Encodes a decimal number `num` into a binary string representation, the binary code will mimicke the `DNA` of a number which will serve to perform the crossover.\n",
    "\n",
    "- **`binary_to_decimal(self, binary)`**: Decodes a binary string `binary` back into a decimal number to add it to the population.\n",
    "\n",
    "- **`fitness(self, x)`**: Calculates the fitness score for an individual `x` using the given coefficients `a`, `b`, and `c`, the goal is to find $x$ so that $f(x)=0$, in order to achieve that we need to minimize positive scores and maximize negative scores,what we can do instead is to use the absolute value to make it only about minimizing the scores.\n",
    "\n",
    "- **`evaluate_fitness(self)`**: Evaluates the fitness scores for all individuals in the population and return an array with each andividual and its score.\n",
    "\n",
    "- **`eliminate(self)`**: Performs selection by sorting the individuals by their scores, we only keep the half with the lowest scores .\n",
    "\n",
    "- **`croissement(self)`**: Performs crossover to create new offspring by combining genetic representation of numbers `DNA` that is mimicked by their binary form of the selected parents.\n",
    "\n",
    "- **`fit(self)`**: Executes the genetic algorithm by iteratively performing crossover over multiple generations and prints the best individual's fitness score.\n",
    "we round the results to try to achieve the exact solution since the genetic algorithms converges to the solutions but may not reach them.\n",
    "\n",
    "### Usage Example\n",
    "\n",
    "To use the genetic algorithm, create an instance of the `AG_diff_equation` class with appropriate parameter values, and call the `fit()` method. For example:\n",
    "\n",
    "```python\n",
    "ga = AG_diff_equation(a=1, b=2, c=3, taille_population=100, generations=50)\n",
    "ga.fit()\n",
    "\n"
   ]
  },
  {
   "cell_type": "code",
   "execution_count": 7,
   "id": "eb26948e-b1f9-48d6-9f7b-75c35cf7950c",
   "metadata": {},
   "outputs": [],
   "source": [
    "import numpy as np\n",
    "import random \n",
    "\n",
    "class AG_diff_equation:\n",
    "    def __init__(self, a, b, c, taille_population,generations):\n",
    "        self.a = a\n",
    "        self.b = b\n",
    "        self.c = c\n",
    "        self.taille_population = taille_population\n",
    "        self.population = np.array([np.random.uniform(low=-126, high=127) for i in range(self.taille_population)])\n",
    "        self.generations = generations\n",
    "        \n",
    "        \n",
    "    def decode_to_binary(self,num):\n",
    "        # Encode sign bit\n",
    "        sign_bit = '1' if num < 0 else '0'\n",
    "        \n",
    "        # Encode absolute value of the integer part\n",
    "        int_binary = format(abs(int(num)), 'b')\n",
    "        li = list(int_binary)\n",
    "        while len(li) != 7:\n",
    "            li.insert(0, '0')\n",
    "            \n",
    "        int_binary = \"\"\n",
    "        \n",
    "        for e in li:\n",
    "            int_binary += str(e)\n",
    "        \n",
    "        \n",
    "       # Encode decimal part\n",
    "        decimal_binary = \"\"\n",
    "        decimal_part = abs(num) - int(abs(num))\n",
    "        num_bits = 8\n",
    "        for i in range(num_bits):\n",
    "            decimal_part *= 2\n",
    "            bit = int(decimal_part)\n",
    "            decimal_binary += str(bit)\n",
    "            decimal_part -= bit\n",
    "            \n",
    "        # Combine sign bit, integer part, and decimal part\n",
    "        binary_string = sign_bit + int_binary + decimal_binary\n",
    "        return binary_string\n",
    "    def binary_to_decimal(self,binary):\n",
    "            \n",
    "        sign_bit = int(binary[0])\n",
    "        int_part = binary[1:9]\n",
    "        fractional_part = binary[9:]\n",
    "\n",
    "        decimal_number = int(int_part, 2)\n",
    "        decimal_number += int(fractional_part, 2) / (2**len(fractional_part))\n",
    "\n",
    "        if sign_bit:\n",
    "            decimal_number = -decimal_number\n",
    "\n",
    "        return decimal_number/2\n",
    "    \n",
    "    \n",
    "    \n",
    "    def fitness(self,x):\n",
    "        return np.abs(self.a*x**2 + self.b*x + self.c )\n",
    "\n",
    "\n",
    "    \n",
    "    def evaluate_fitness(self):\n",
    "        fitness_scores = []\n",
    "        for individual in self.population:\n",
    "            fitness  = self.fitness(individual)\n",
    "            fitness_scores.append([individual, fitness])\n",
    "        return np.array(fitness_scores)\n",
    "\n",
    "        \n",
    "    def eliminate(self):\n",
    "        fitness_scores = self.evaluate_fitness()\n",
    "        fitness_scores = np.asarray(fitness_scores)\n",
    "        fitness_scores_new_args = np.argsort(fitness_scores[:,1])\n",
    "        fitness_scores = fitness_scores[fitness_scores_new_args]\n",
    "        fitness_scores = fitness_scores[:len(fitness_scores)//2]\n",
    "        return fitness_scores[:,0]\n",
    "    \n",
    "    \n",
    "    def croissement(self):\n",
    "        pop = self.eliminate()\n",
    "        childs = []\n",
    "        while len(pop) > len(childs):\n",
    "            parent1 = np.random.choice(pop)\n",
    "            parent1 = self.decode_to_binary(parent1)\n",
    "            parent2 = np.random.choice(pop)\n",
    "            parent2 = self.decode_to_binary(parent2)\n",
    "            crossover_point = np.random.randint(1, 16)\n",
    "            child1 = parent1[:crossover_point] + parent2[crossover_point:] \n",
    "            child1 = self.binary_to_decimal(child1)\n",
    "            childs.append(child1)\n",
    "        self.population = np.append(pop,childs)\n",
    "        \n",
    "    def fit(self):\n",
    "        for i in range(self.generations):\n",
    "            childs = self.croissement()\n",
    "        sol = np.round(self.evaluate_fitness()[0][0])\n",
    "        score = self.fitness(sol)\n",
    "        print(f\"the best solution achieved is {sol} with a score of {score}\")"
   ]
  },
  {
   "attachments": {},
   "cell_type": "markdown",
   "id": "105fa501",
   "metadata": {},
   "source": [
    "let's use it to solve the equation:\n",
    "$$2x^2 -4x+2 =0 $$\n",
    "the equation admits one solution which is $1$"
   ]
  },
  {
   "cell_type": "code",
   "execution_count": 10,
   "id": "2a442200",
   "metadata": {},
   "outputs": [],
   "source": [
    "ag = AG_diff_equation( 2, -4, 2, 100,1000)"
   ]
  },
  {
   "cell_type": "code",
   "execution_count": 11,
   "id": "f2a2bf91",
   "metadata": {},
   "outputs": [
    {
     "name": "stdout",
     "output_type": "stream",
     "text": [
      "the best solution achieved is 1.0 with a score of 0.0\n"
     ]
    }
   ],
   "source": [
    "ag.fit()"
   ]
  },
  {
   "cell_type": "code",
   "execution_count": 138,
   "id": "71452731",
   "metadata": {},
   "outputs": [
    {
     "data": {
      "text/plain": [
       "array([-1.62109375, -1.6217161325669451, 2.4009135624752957,\n",
       "       -3.2434128713001513, -3.650468891535411, -4.929629145683933,\n",
       "       -5.3671875, 6.21875, -6.219832825641575, 6.92578125,\n",
       "       7.774524807740136, 8.19921875, 8.202350176747473,\n",
       "       -15.52987919673997, 16.0546875, 16.41796875, -16.04296875,\n",
       "       -16.056921210582303, -16.38782253551095, -16.48828125,\n",
       "       17.32796219401402, 17.37057399805704, 17.858955650646692,\n",
       "       20.38671875, 20.423842416422985, 21.421875, 21.43359375,\n",
       "       21.436744480465677, -23.4453125, -23.452024866702175, 24.0390625,\n",
       "       -24.279621752052464, -24.3046875, 25.1796875, -25.180364161188322,\n",
       "       26.031443632432826, 27.2578125, 27.26171875, 27.263062257875646,\n",
       "       -27.08203125, -27.2421875, -27.749776599872604, -28.0390625,\n",
       "       -28.042345326281037, 29.074190683842033, 30.078125,\n",
       "       30.090320317916166, 30.283037890940534, -30.08984375,\n",
       "       31.14059483697693, None], dtype=object)"
      ]
     },
     "execution_count": 138,
     "metadata": {},
     "output_type": "execute_result"
    }
   ],
   "source": [
    "ag.population"
   ]
  },
  {
   "cell_type": "code",
   "execution_count": 133,
   "id": "e7f07ecb",
   "metadata": {},
   "outputs": [],
   "source": []
  },
  {
   "attachments": {},
   "cell_type": "markdown",
   "id": "6ad6a773",
   "metadata": {},
   "source": []
  }
 ],
 "metadata": {
  "kernelspec": {
   "display_name": "Python 3 (ipykernel)",
   "language": "python",
   "name": "python3"
  },
  "language_info": {
   "codemirror_mode": {
    "name": "ipython",
    "version": 3
   },
   "file_extension": ".py",
   "mimetype": "text/x-python",
   "name": "python",
   "nbconvert_exporter": "python",
   "pygments_lexer": "ipython3",
   "version": "3.9.13"
  }
 },
 "nbformat": 4,
 "nbformat_minor": 5
}
