{
 "cells": [
  {
   "cell_type": "markdown",
   "metadata": {},
   "source": [
    "# Le code suivant représente une approche d'algorithme génétique pour la planification de séances dans des intervalles de temps prédéfinis. Voici les principaux composants , le but c'est de créer des emplois du temps ou il n'ya pas de chevauchement entre les seances tout en assurant de profiter de toutes les seances disponibles :\n",
    "\n",
    "# 1. **Constantes** :\n",
    "  - `POPULATION_SIZE` : Le nombre d'individus dans chaque population.\n",
    "  - `GENOME_LENGTH` : La longueur du chromosome, représentant le nombre de séances à planifier.\n",
    "  - `MAX_GENERATIONS` : Le nombre maximal de générations pour exécuter l'algorithme génétique.\n",
    "  - `MUTATION_RATE` : La probabilité de mutation $P(mutation)$ pour chaque gène lors de l'opération de mutation.\n"
   ]
  },
  {
   "cell_type": "code",
   "execution_count": 55,
   "metadata": {},
   "outputs": [],
   "source": [
    "import random\n",
    "\n",
    "# Constants\n",
    "POPULATION_SIZE = 100\n",
    "GENOME_LENGTH = 6\n",
    "MAX_GENERATIONS = 20\n",
    "MUTATION_RATE = 0.1\n",
    "\n",
    "\n",
    "\n"
   ]
  },
  {
   "cell_type": "markdown",
   "metadata": {},
   "source": [
    "# 2. **Séances** :\n",
    "   - La liste `sessions` définit les intervalles de temps disponibles pour la planification des séances. Chaque séance est représentée par une heure de début et une heure de fin, on definit les six seances de travail usuelles , de $08:00$ à $20:00$ , $2$ heures pour chaque session.\n"
   ]
  },
  {
   "cell_type": "code",
   "execution_count": 56,
   "metadata": {},
   "outputs": [],
   "source": [
    "# Definir les session comme intervales [debut, fin]\n",
    "sessions = [\n",
    "    [8, 10],\n",
    "    [10, 12],\n",
    "    [12, 14],\n",
    "    [14, 16],\n",
    "    [16, 18],\n",
    "    [18, 20]\n",
    "]"
   ]
  },
  {
   "cell_type": "markdown",
   "metadata": {},
   "source": [
    "# 3. **Initialisation de la population** :\n",
    "   - La fonction `generate_population` crée une population initiale d'individus (chromosomes). Chaque chromosome represente un emplois du temps sous forme d'une liste à 6 elements puisqu'on a six seances où chaque gène représente une séance et peut prendre des valeurs de 0 à 2. 0 represente que la session est vide , 1 indique que la periode est occupé par une seule séances tandis que 2 indique un chevauchement de 2 séances:\n"
   ]
  },
  {
   "cell_type": "code",
   "execution_count": null,
   "metadata": {},
   "outputs": [],
   "source": [
    "def generate_population():\n",
    "    population = []\n",
    "    for _ in range(POPULATION_SIZE):\n",
    "        chromosome = [random.randint(0, 2) for _ in range(GENOME_LENGTH)]\n",
    "        population.append(chromosome)\n",
    "    return population"
   ]
  },
  {
   "cell_type": "markdown",
   "metadata": {},
   "source": [
    "# 4. **Évaluation de la fonction de fitness** :\n",
    "   - La fonction `evaluate_fitness` calcule le score de fitness pour un chromosome donné(un emploi du temps). Elle évalue le chromosome en comptant le nombre de séances qui se chevauchent et le nombre de séances vides. s'il y'a un chevauchement , on penalise l'emplois par ajouter le nombre des seances chevauchante $1 - chromosome[i]$ au score , on pénalise de plus les sessions vides par ajouter un 1 au score puisqu'on veut profiter le maximum possible de toutes les seances. un emploi idéal sera donc $[1,1,1,1,1,1]$ puisque son score est 0 ,et comme exemple le score de $[2,2,0,0,1,1]$ est 4 .\n",
    "   - notre but est de minimiser le $schedule\\_score$\n"
   ]
  },
  {
   "cell_type": "code",
   "execution_count": null,
   "metadata": {},
   "outputs": [],
   "source": [
    "def evaluate_fitness(chromosome):\n",
    "    schedule_score = 0\n",
    "    for gene in chromosome:\n",
    "        # Reduce the overlap of sessions\n",
    "        if gene > 1:\n",
    "            schedule_score += gene - 1\n",
    "        # Count empty sessions\n",
    "        elif gene == 0:\n",
    "            schedule_score += 1\n",
    "    return schedule_score"
   ]
  },
  {
   "cell_type": "markdown",
   "metadata": {},
   "source": [
    "# 5. **Sélection des parents** :\n",
    "   - La fonction `select_parents` sélectionne les individus (chromosomes) les plus performants de la population pour devenir des parents lors de l'opération de crossover. La sélection est basée sur leurs scores de fitness , du coup la prochaine generation aura probablement des meilleurs `score`.\n"
   ]
  },
  {
   "cell_type": "code",
   "execution_count": null,
   "metadata": {},
   "outputs": [],
   "source": [
    "def select_parents(population):\n",
    "    # Select the best 50% of the population as parents\n",
    "    sorted_population = sorted(population, key=lambda chromosome: evaluate_fitness(chromosome))\n",
    "    parents = sorted_population[:POPULATION_SIZE // 2]\n",
    "    return parents"
   ]
  },
  {
   "cell_type": "markdown",
   "metadata": {},
   "source": [
    "# 6. **Crossover** :\n",
    "   - La fonction `crossover` effectue l'opération de crossover en combinant les chromosomes des parents sélectionnés. Elle crée deux nouveaux chromosomes (enfants) en échangeant les parties du chromosome des parents à un point de crossover aléatoire.\n"
   ]
  },
  {
   "cell_type": "code",
   "execution_count": null,
   "metadata": {},
   "outputs": [],
   "source": [
    "def crossover(parent1, parent2):\n",
    "    crossover_point = random.randint(1, GENOME_LENGTH - 1)\n",
    "    offspring1 = parent1[:crossover_point] + parent2[crossover_point:]\n",
    "    offspring2 = parent2[:crossover_point] + parent1[crossover_point:]\n",
    "    return offspring1, offspring2"
   ]
  },
  {
   "cell_type": "markdown",
   "metadata": {},
   "source": [
    "# 7. **Mutation** :\n",
    "   - La fonction `mutate` effectue l'opération de mutation en inversant les bits (gènes) du chromosome avec une probabilité définie par `MUTATION_RATE`.\n"
   ]
  },
  {
   "cell_type": "code",
   "execution_count": null,
   "metadata": {},
   "outputs": [],
   "source": [
    "def mutate(chromosome):\n",
    "    for i in range(len(chromosome)):\n",
    "        if random.random() < MUTATION_RATE:\n",
    "            chromosome[i] = 2 - chromosome[i]"
   ]
  },
  {
   "cell_type": "markdown",
   "metadata": {},
   "source": [
    "# 8. **Algorithme génétique** :\n",
    "   - La fonction `genetic_algorithm` exécute l'algorithme génétique en générant une population initiale, en évaluant la fitness de chaque chromosome, en sélectionnant les parents, en effectuant le crossover et la mutation pour créer une nouvelle génération, puis en répétant ces étapes pour plusieurs générations. Elle renvoie le meilleur chromosome trouvé.\n"
   ]
  },
  {
   "cell_type": "code",
   "execution_count": null,
   "metadata": {},
   "outputs": [],
   "source": [
    "def genetic_algorithm():\n",
    "    population = generate_population()\n",
    "\n",
    "    for generation in range(MAX_GENERATIONS):\n",
    "        # Evaluate fitness of each chromosome in the population\n",
    "        fitness_scores = [evaluate_fitness(chromosome) for chromosome in population]\n",
    "\n",
    "        # Select parents for crossover\n",
    "        parents = select_parents(population)\n",
    "\n",
    "        # Perform crossover and mutation to create new generation\n",
    "        new_population = []\n",
    "        for i in range(0, len(parents),2):\n",
    "            parent1, parent2 = parents[i], parents[i + 1]\n",
    "            offspring1, offspring2 = crossover(parent1, parent2)\n",
    "            mutate(offspring1)\n",
    "            mutate(offspring2)\n",
    "            new_population.extend([offspring1, offspring2])\n",
    "\n",
    "        # Replace the old population with the new generation\n",
    "        parents.extend(new_population)\n",
    "        population = parents\n",
    "\n",
    "    # Return the best chromosome after all generations\n",
    "    best_chromosome = min(population, key=lambda chromosome: evaluate_fitness(chromosome))\n",
    "    return best_chromosome\n",
    "\n",
    "# Main program\n",
    "best_schedule = genetic_algorithm()\n",
    "print(best_schedule)\n",
    "print(\"Overlapping hours:\", evaluate_fitness(best_schedule))"
   ]
  },
  {
   "cell_type": "markdown",
   "metadata": {},
   "source": [
    "### L'algorithme présenté est une approche d'algorithme génétique pour la planification de séances dans des intervalles de temps prédéfinis. Il utilise une population de chromosomes représentant les différentes combinaisons d'emplois du temps possibles. L'objectif est de minimiser le chevauchement des séances et d'optimiser l'utilisation des créneaux horaires disponibles."
   ]
  }
 ],
 "metadata": {
  "kernelspec": {
   "display_name": "Python 3 (ipykernel)",
   "language": "python",
   "name": "python3"
  },
  "language_info": {
   "codemirror_mode": {
    "name": "ipython",
    "version": 3
   },
   "file_extension": ".py",
   "mimetype": "text/x-python",
   "name": "python",
   "nbconvert_exporter": "python",
   "pygments_lexer": "ipython3",
   "version": "3.9.13"
  }
 },
 "nbformat": 4,
 "nbformat_minor": 2
}
